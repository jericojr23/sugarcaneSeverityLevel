{
 "cells": [
  {
   "cell_type": "code",
   "execution_count": 3,
   "metadata": {},
   "outputs": [
    {
     "name": "stdout",
     "output_type": "stream",
     "text": [
      "Class 'Banded Chlorosis': 471 items\n",
      "Class 'Brown Spot': 1722 items\n",
      "Class 'BrownRust': 314 items\n",
      "Class 'Dried Leaves': 343 items\n",
      "Class 'Grassy shoot': 346 items\n",
      "Class 'Healthy Leaves': 430 items\n",
      "Class 'Pokkah Boeng': 297 items\n",
      "Class 'Sett Rot': 652 items\n",
      "Class 'smut': 316 items\n",
      "Class 'Viral Disease': 663 items\n",
      "Class 'Yellow Leaf': 1194 items\n"
     ]
    }
   ],
   "source": [
    "import os\n",
    "import shutil\n",
    "from sklearn.model_selection import train_test_split\n",
    "\n",
    "def split_data(input_dir, output_dir, test_size=0.2, validation_size=0.1, random_seed=42):\n",
    "    \"\"\"\n",
    "    Split data in input_dir into training, test, and validation sets and organize in output_dir.\n",
    "\n",
    "    Parameters:\n",
    "    - input_dir (str): Path to the input data directory where classes are organized in folders.\n",
    "    - output_dir (str): Path to the output directory where the split data will be organized.\n",
    "    - test_size (float): The proportion of the data to include in the test split (default is 0.2).\n",
    "    - validation_size (float): The proportion of the data to include in the validation split (default is 0.1).\n",
    "    - random_seed (int): Seed for random number generator for reproducibility (default is 42).\n",
    "    \"\"\"\n",
    "    # Create output directory if it doesn't exist\n",
    "    if not os.path.exists(output_dir):\n",
    "        os.makedirs(output_dir)\n",
    "\n",
    "    # Get the list of class folders in the input directory\n",
    "    class_folders = [folder for folder in os.listdir(input_dir) if os.path.isdir(os.path.join(input_dir, folder))]\n",
    "\n",
    "    for class_folder in class_folders:\n",
    "        class_input_dir = os.path.join(input_dir, class_folder)\n",
    "        class_output_train_dir = os.path.join(output_dir, 'train', class_folder)\n",
    "        class_output_test_dir = os.path.join(output_dir, 'test', class_folder)\n",
    "        class_output_validation_dir = os.path.join(output_dir, 'validation', class_folder)\n",
    "\n",
    "        # Create class output directories if they don't exist\n",
    "        if not os.path.exists(class_output_train_dir):\n",
    "            os.makedirs(class_output_train_dir)\n",
    "        if not os.path.exists(class_output_test_dir):\n",
    "            os.makedirs(class_output_test_dir)\n",
    "        if not os.path.exists(class_output_validation_dir):\n",
    "            os.makedirs(class_output_validation_dir)\n",
    "\n",
    "        # List all files in the class folder\n",
    "        class_files = os.listdir(class_input_dir)\n",
    "\n",
    "        # Print the number of items in each class\n",
    "        print(f\"Class '{class_folder}': {len(class_files)} items\")\n",
    "\n",
    "        # Split the data into training, test, and validation sets\n",
    "        remaining_files, test_files = train_test_split(class_files, test_size=test_size, random_state=random_seed)\n",
    "        train_files, validation_files = train_test_split(remaining_files, test_size=validation_size, random_state=random_seed)\n",
    "\n",
    "        # Copy training files to the output directory\n",
    "        for file in train_files:\n",
    "            src_path = os.path.join(class_input_dir, file)\n",
    "            dest_path = os.path.join(class_output_train_dir, file)\n",
    "            shutil.copy(src_path, dest_path)\n",
    "\n",
    "        # Copy test files to the test folder\n",
    "        for file in test_files:\n",
    "            src_path = os.path.join(class_input_dir, file)\n",
    "            dest_path = os.path.join(class_output_test_dir, file)\n",
    "            shutil.copy(src_path, dest_path)\n",
    "\n",
    "        # Copy validation files to the validation folder\n",
    "        for file in validation_files:\n",
    "            src_path = os.path.join(class_input_dir, file)\n",
    "            dest_path = os.path.join(class_output_validation_dir, file)\n",
    "            shutil.copy(src_path, dest_path)\n",
    "\n",
    "# Example usage:\n",
    "input_directory = 'Sugarcane Leaf Image Dataset'\n",
    "output_directory = 'Sugarcane Leaf Image Dataset Split'\n",
    "split_data(input_directory, output_directory)\n"
   ]
  },
  {
   "cell_type": "code",
   "execution_count": null,
   "metadata": {},
   "outputs": [],
   "source": []
  }
 ],
 "metadata": {
  "kernelspec": {
   "display_name": "useGPU",
   "language": "python",
   "name": "python3"
  },
  "language_info": {
   "codemirror_mode": {
    "name": "ipython",
    "version": 3
   },
   "file_extension": ".py",
   "mimetype": "text/x-python",
   "name": "python",
   "nbconvert_exporter": "python",
   "pygments_lexer": "ipython3",
   "version": "3.8.18"
  }
 },
 "nbformat": 4,
 "nbformat_minor": 2
}
