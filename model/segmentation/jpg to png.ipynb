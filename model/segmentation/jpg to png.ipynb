{
 "cells": [
  {
   "cell_type": "code",
   "execution_count": 1,
   "metadata": {},
   "outputs": [
    {
     "name": "stdout",
     "output_type": "stream",
     "text": [
      "DJI_20240220123219_0180_D_JPG.rf.6bd44303120d924c6c63fc4fb797d005.jpg converted to I:\\Dataset\\Sugarcane.v1i.voc\\PNGImages\\DJI_20240220123219_0180_D_JPG.rf.6bd44303120d924c6c63fc4fb797d005.png\n",
      "DJI_20240220123219_0180_D_JPG.rf.8e6bd4323221fa81d076e19f603b5c8d.jpg converted to I:\\Dataset\\Sugarcane.v1i.voc\\PNGImages\\DJI_20240220123219_0180_D_JPG.rf.8e6bd4323221fa81d076e19f603b5c8d.png\n",
      "DJI_20240220123219_0180_D_JPG.rf.cc49ef0621a279f61e56cd7a4381dcb7.jpg converted to I:\\Dataset\\Sugarcane.v1i.voc\\PNGImages\\DJI_20240220123219_0180_D_JPG.rf.cc49ef0621a279f61e56cd7a4381dcb7.png\n",
      "DJI_20240220123219_0180_D_JPG.rf.dd89e75156df53098234fa90534e65fd.jpg converted to I:\\Dataset\\Sugarcane.v1i.voc\\PNGImages\\DJI_20240220123219_0180_D_JPG.rf.dd89e75156df53098234fa90534e65fd.png\n",
      "DJI_20240220123219_0180_D_JPG.rf.f2bde4b8fd848779899e85cc01369925.jpg converted to I:\\Dataset\\Sugarcane.v1i.voc\\PNGImages\\DJI_20240220123219_0180_D_JPG.rf.f2bde4b8fd848779899e85cc01369925.png\n",
      "DJI_20240220123540_0280_D_JPG.rf.372449a81822ba7bdbc255ea4f668651.jpg converted to I:\\Dataset\\Sugarcane.v1i.voc\\PNGImages\\DJI_20240220123540_0280_D_JPG.rf.372449a81822ba7bdbc255ea4f668651.png\n",
      "DJI_20240220123540_0280_D_JPG.rf.f566232a4e87243862304790a573a233.jpg converted to I:\\Dataset\\Sugarcane.v1i.voc\\PNGImages\\DJI_20240220123540_0280_D_JPG.rf.f566232a4e87243862304790a573a233.png\n"
     ]
    }
   ],
   "source": [
    "from PIL import Image\n",
    "import os\n",
    "\n",
    "def convert_jpg_to_png(input_folder, output_folder):\n",
    "    # Create output folder if it doesn't exist\n",
    "    if not os.path.exists(output_folder):\n",
    "        os.makedirs(output_folder)\n",
    "    \n",
    "    # Loop through all files in the input folder\n",
    "    for filename in os.listdir(input_folder):\n",
    "        # Check if the file is a JPG image\n",
    "        if filename.endswith('.jpg') or filename.endswith('.jpeg'):\n",
    "            # Open the image\n",
    "            with Image.open(os.path.join(input_folder, filename)) as img:\n",
    "                # Construct the output file path\n",
    "                output_path = os.path.join(output_folder, os.path.splitext(filename)[0] + '.png')\n",
    "                # Convert and save as PNG\n",
    "                img.save(output_path, 'PNG')\n",
    "                print(f'{filename} converted to {output_path}')\n",
    "\n",
    "# Example usage:\n",
    "input_folder = 'I:\\Dataset\\Sugarcane.v1i.voc\\PNGImagesjpg'\n",
    "output_folder = 'I:\\Dataset\\Sugarcane.v1i.voc\\PNGImages'\n",
    "convert_jpg_to_png(input_folder, output_folder)\n"
   ]
  }
 ],
 "metadata": {
  "kernelspec": {
   "display_name": "Python 3",
   "language": "python",
   "name": "python3"
  },
  "language_info": {
   "codemirror_mode": {
    "name": "ipython",
    "version": 3
   },
   "file_extension": ".py",
   "mimetype": "text/x-python",
   "name": "python",
   "nbconvert_exporter": "python",
   "pygments_lexer": "ipython3",
   "version": "3.9.18"
  }
 },
 "nbformat": 4,
 "nbformat_minor": 2
}
