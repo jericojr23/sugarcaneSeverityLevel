{
 "cells": [
  {
   "cell_type": "code",
   "execution_count": 3,
   "metadata": {},
   "outputs": [
    {
     "name": "stdout",
     "output_type": "stream",
     "text": [
      "Dataset split into train and validation sets successfully.\n"
     ]
    }
   ],
   "source": [
    "import os\n",
    "import random\n",
    "import shutil\n",
    "\n",
    "# Set the path to your dataset directory containing images and annotations\n",
    "dataset_dir = r\"G:\\Downloads V2\\sugarcanev3.v8i.yolov5pytorch\\train\\images\"\n",
    "\n",
    "# Set the path to the directory where you want to save the train and validation sets\n",
    "output_dir = r\"G:\\Downloads V2\\sugarcanev3.v8i.yolov5pytorch\\train\\split\"\n",
    "\n",
    "# Create output directories for train and validation sets if they don't exist\n",
    "train_dir = os.path.join(output_dir, \"train\")\n",
    "val_dir = os.path.join(output_dir, \"val\")\n",
    "os.makedirs(train_dir, exist_ok=True)\n",
    "os.makedirs(val_dir, exist_ok=True)\n",
    "\n",
    "# Set the ratio for splitting the dataset\n",
    "train_ratio = 0.8\n",
    "\n",
    "# Get list of image files in the dataset directory\n",
    "image_files = [f for f in os.listdir(dataset_dir) if f.endswith(('.jpg', '.png', '.jpeg'))]\n",
    "\n",
    "# Shuffle the list of image files\n",
    "random.shuffle(image_files)\n",
    "\n",
    "# Calculate the number of images for train and validation sets\n",
    "num_train = int(len(image_files) * train_ratio)\n",
    "num_val = len(image_files) - num_train\n",
    "\n",
    "# Copy images and corresponding annotations to train directory\n",
    "for image_file in image_files[:num_train]:\n",
    "    shutil.copy(os.path.join(dataset_dir, image_file), os.path.join(train_dir, image_file))\n",
    "    shutil.copy(os.path.join(dataset_dir, image_file.replace('.jpg', '.txt')), os.path.join(train_dir, image_file.replace('.jpg', '.txt')))\n",
    "\n",
    "# Copy images and corresponding annotations to validation directory\n",
    "for image_file in image_files[num_train:]:\n",
    "    shutil.copy(os.path.join(dataset_dir, image_file), os.path.join(val_dir, image_file))\n",
    "    shutil.copy(os.path.join(dataset_dir, image_file.replace('.jpg', '.txt')), os.path.join(val_dir, image_file.replace('.jpg', '.txt')))\n",
    "\n",
    "print(\"Dataset split into train and validation sets successfully.\")\n"
   ]
  }
 ],
 "metadata": {
  "kernelspec": {
   "display_name": "torch",
   "language": "python",
   "name": "python3"
  },
  "language_info": {
   "codemirror_mode": {
    "name": "ipython",
    "version": 3
   },
   "file_extension": ".py",
   "mimetype": "text/x-python",
   "name": "python",
   "nbconvert_exporter": "python",
   "pygments_lexer": "ipython3",
   "version": "3.9.18"
  }
 },
 "nbformat": 4,
 "nbformat_minor": 2
}
