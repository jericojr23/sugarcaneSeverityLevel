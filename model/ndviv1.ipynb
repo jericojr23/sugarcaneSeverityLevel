{
 "cells": [
  {
   "cell_type": "code",
   "execution_count": null,
   "metadata": {},
   "outputs": [],
   "source": [
    "import numpy as np\n",
    "import matplotlib.pyplot as plt\n",
    "import rasterio\n",
    "\n",
    "# Open the red and near-infrared bands from a satellite image\n",
    "with rasterio.open('path_to_red_band.tif') as red:\n",
    "    red_band = red.read(1).astype('float32')\n",
    "\n",
    "with rasterio.open('path_to_nir_band.tif') as nir:\n",
    "    nir_band = nir.read(1).astype('float32')\n",
    "\n",
    "# Calculate NDVI\n",
    "ndvi = (nir_band - red_band) / (nir_band + red_band)\n",
    "\n",
    "# Display NDVI\n",
    "plt.imshow(ndvi, cmap='RdYlGn')\n",
    "plt.colorbar(label='NDVI')\n",
    "plt.title('Normalized Difference Vegetation Index (NDVI)')\n",
    "plt.show()\n"
   ]
  }
 ],
 "metadata": {
  "language_info": {
   "name": "python"
  }
 },
 "nbformat": 4,
 "nbformat_minor": 2
}
