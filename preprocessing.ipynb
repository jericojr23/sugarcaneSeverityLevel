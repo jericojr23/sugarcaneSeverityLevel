{
 "cells": [
  {
   "cell_type": "code",
   "execution_count": null,
   "metadata": {},
   "outputs": [],
   "source": [
    "import numpy as np"
   ]
  },
  {
   "cell_type": "code",
   "execution_count": null,
   "metadata": {},
   "outputs": [],
   "source": [
    "def weiner_filter(img, kernel, K):\n",
    "    kernel /= np.sum(kernel)\n",
    "    dummy = np.copy(img)\n",
    "    dummy = fft2(dummy)\n",
    "    kernelt = fff2"
   ]
  }
 ],
 "metadata": {
  "language_info": {
   "name": "python"
  }
 },
 "nbformat": 4,
 "nbformat_minor": 2
}
