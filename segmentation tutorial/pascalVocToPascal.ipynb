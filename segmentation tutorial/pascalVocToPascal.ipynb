{
 "cells": [
  {
   "cell_type": "code",
   "execution_count": null,
   "metadata": {},
   "outputs": [],
   "source": [
    "import os\n",
    "import xml.etree.ElementTree as ET\n",
    "\n",
    "def parse_annotation(xml_file):\n",
    "    tree = ET.parse(xml_file)\n",
    "    root = tree.getroot()\n",
    "\n",
    "    filename = root.find('filename').text\n",
    "    width = int(root.find('size').find('width').text)\n",
    "    height = int(root.find('size').find('height').text)\n",
    "    objects = []\n",
    "\n",
    "    for obj in root.findall('object'):\n",
    "        obj_name = obj.find('name').text\n",
    "        xmin = int(obj.find('bndbox').find('xmin').text)\n",
    "        ymin = int(obj.find('bndbox').find('ymin').text)\n",
    "        xmax = int(obj.find('bndbox').find('xmax').text)\n",
    "        ymax = int(obj.find('bndbox').find('ymax').text)\n",
    "        objects.append((obj_name, (xmin, ymin), (xmax, ymax)))\n",
    "\n",
    "    return filename, width, height, objects\n",
    "\n",
    "def generate_annotation_v1(xml_folder, output_file):\n",
    "    with open(output_file, 'w') as f:\n",
    "        for xml_file in os.listdir(xml_folder):\n",
    "            if xml_file.endswith('.xml'):\n",
    "                xml_path = os.path.join(xml_folder, xml_file)\n",
    "                filename, width, height, objects = parse_annotation(xml_path)\n",
    "                \n",
    "                f.write(f'# Compatible with PASCAL Annotation Version 1.00\\n')\n",
    "                f.write(f'Image filename : \"{filename}\"\\n')\n",
    "                f.write(f'Image size (X x Y x C) : {width} x {height} x 3\\n')\n",
    "                f.write(f'Database : \"Unknown\"\\n')\n",
    "                f.write(f'Objects with ground truth : {len(objects)} {{ ')\n",
    "                for obj_name, _, _ in objects:\n",
    "                    f.write(f'\"{obj_name}\" ')\n",
    "                f.write('}\\n')\n",
    "\n",
    "                for i, (obj_name, (xmin, ymin), (xmax, ymax)) in enumerate(objects, start=1):\n",
    "                    f.write(f'# Details for {obj_name} {i} (\"{obj_name}\")\\n')\n",
    "                    f.write(f'Original label for object {i} \"{obj_name}\" : \"Unknown\"\\n')\n",
    "                    f.write(f'Bounding box for object {i} \"{obj_name}\" (Xmin, Ymin) - (Xmax, Ymax) : ({xmin}, {ymin}) - ({xmax}, {ymax})\\n')\n",
    "                    f.write(f'Pixel mask for object {i} \"{obj_name}\" : \"Unknown\"\\n\\n')\n",
    "\n",
    "                f.write('\\n')\n",
    "\n",
    "if __name__ == '__main__':\n",
    "    xml_folder = '/path/to/xml/folder'\n",
    "    output_file = '/path/to/output/annotations.txt'\n",
    "    generate_annotation_v1(xml_folder, output_file)\n"
   ]
  }
 ],
 "metadata": {
  "language_info": {
   "name": "python"
  }
 },
 "nbformat": 4,
 "nbformat_minor": 2
}
