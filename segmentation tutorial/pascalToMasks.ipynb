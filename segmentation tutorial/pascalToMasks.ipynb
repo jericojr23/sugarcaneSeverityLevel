{
 "cells": [
  {
   "cell_type": "code",
   "execution_count": 7,
   "metadata": {},
   "outputs": [],
   "source": [
    "import os\n",
    "import numpy as np\n",
    "import xml.etree.ElementTree as ET\n",
    "from PIL import Image, ImageDraw\n",
    "def parse_annotation(xml_file):\n",
    "    tree = ET.parse(xml_file)\n",
    "    root = tree.getroot()\n",
    "\n",
    "    size = root.find('size')\n",
    "    width = int(size.find('width').text)\n",
    "    height = int(size.find('height').text)\n",
    "\n",
    "    objects = []\n",
    "    for obj in root.findall('object'):\n",
    "        obj_name = obj.find('name').text\n",
    "        polygon = []\n",
    "        for point in obj.find('polygon').findall('*'):\n",
    "            if point.tag.startswith('x'):\n",
    "                x = float(point.text)\n",
    "            elif point.tag.startswith('y'):\n",
    "                y = float(point.text)\n",
    "                polygon.append((x, y))\n",
    "        objects.append((obj_name, polygon))\n",
    "\n",
    "    return width, height, objects\n",
    "\n",
    "\n",
    "def create_mask(width, height, objects):\n",
    "    mask = Image.new('L', (width, height), 0)\n",
    "    draw = ImageDraw.Draw(mask)\n",
    "    for _, polygon in objects:\n",
    "        draw.polygon(polygon, fill=255)\n",
    "    return mask\n",
    "\n",
    "def main(xml_folder, output_folder):\n",
    "    if not os.path.exists(output_folder):\n",
    "        os.makedirs(output_folder)\n",
    "\n",
    "    xml_files = [f for f in os.listdir(xml_folder) if f.endswith('.xml')]\n",
    "    for xml_file in xml_files:\n",
    "        xml_path = os.path.join(xml_folder, xml_file)\n",
    "        image_id = os.path.splitext(xml_file)[0]\n",
    "        width, height, objects = parse_annotation(xml_path)\n",
    "        mask = create_mask(width, height, objects)\n",
    "        mask_file = os.path.join(output_folder, image_id + '.png')\n",
    "        mask.save(mask_file)\n",
    "\n",
    "if __name__ == '__main__':\n",
    "    xml_folder = r'I:\\Dataset\\sugarcanev3.v1i.voc\\xml'  # Note the 'r' prefix to indicate a raw string\n",
    "    output_folder = r'I:\\Dataset\\sugarcanev3.v1i.voc\\PedMasks'  # Note the 'r' prefix to indicate a raw string\n",
    "    main(xml_folder, output_folder)\n"
   ]
  },
  {
   "cell_type": "code",
   "execution_count": null,
   "metadata": {},
   "outputs": [],
   "source": []
  }
 ],
 "metadata": {
  "kernelspec": {
   "display_name": "Python 3",
   "language": "python",
   "name": "python3"
  },
  "language_info": {
   "codemirror_mode": {
    "name": "ipython",
    "version": 3
   },
   "file_extension": ".py",
   "mimetype": "text/x-python",
   "name": "python",
   "nbconvert_exporter": "python",
   "pygments_lexer": "ipython3",
   "version": "3.9.18"
  }
 },
 "nbformat": 4,
 "nbformat_minor": 2
}
